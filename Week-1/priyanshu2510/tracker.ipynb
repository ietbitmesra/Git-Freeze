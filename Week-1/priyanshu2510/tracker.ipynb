{
 "cells": [
  {
   "cell_type": "code",
   "execution_count": 1,
   "metadata": {},
   "outputs": [],
   "source": [
    "from datetime import datetime\n",
    "import urllib\n",
    "import json\n",
    "from bs4 import BeautifulSoup\n",
    "import smtplib\n",
    "from email.mime.text import MIMEText"
   ]
  },
  {
   "cell_type": "code",
   "execution_count": 2,
   "metadata": {},
   "outputs": [],
   "source": [
    "def SendEmail(change,price,name,today):\n",
    "    sender = userr[0]['sender_mail']\n",
    "    passworrd=userr[0]['sender_password']\n",
    "    receivers = userr[0]['receiver_email']\n",
    "    body_of_email=''\n",
    "    if change=='high':\n",
    "        body_of_email = '<h3>'+str(name)+'</h3><br><h4>price increased to</h4><br><h5>'+str(price)+'</h5>'+str(today)\n",
    "    elif change=='less':\n",
    "        body_of_email = '<h3>'+str(name)+'</h3><br><h4>price decreased to</h4><br><h5>'+str(price)+'</h5>'+str(today)\n",
    "    msg = MIMEText(body_of_email, 'html')\n",
    "    msg['Subject'] = 'THE PRICE CHANGED!!!.....'\n",
    "    msg['From'] = sender\n",
    "    msg['To'] = ','.join(receivers)\n",
    "    s = smtplib.SMTP_SSL(host = 'smtp.gmail.com', port = 465)\n",
    "    s.login(user = sender, password = passworrd)\n",
    "    s.sendmail(sender, receivers, msg.as_string())\n",
    "    s.quit()"
   ]
  },
  {
   "cell_type": "code",
   "execution_count": 3,
   "metadata": {},
   "outputs": [],
   "source": [
    "def CheckPriceChange(price,name,today):\n",
    "    if oldprice<price:\n",
    "        change='high'\n",
    "        i['Price']=price\n",
    "        SendEmail(change,price,name,today)\n",
    "    elif oldprice>price:\n",
    "        change='less'\n",
    "        i['Price']=price\n",
    "        SendEmail(change,price,name,today)"
   ]
  },
  {
   "cell_type": "code",
   "execution_count": 4,
   "metadata": {},
   "outputs": [],
   "source": [
    "def checker(urls):\n",
    "    pageurl=urls\n",
    "    page = urllib.request.urlopen(pageurl)\n",
    "    htmlsoup = BeautifulSoup(page, 'html.parser')\n",
    "    htmlname = htmlsoup.find('span', attrs={'class': '_35KyD6'})\n",
    "    name = htmlname.text.strip()\n",
    "    htmlprice = htmlsoup.find('div', attrs={'class':'_1vC4OE _3qQ9m1'})\n",
    "    price = htmlprice.text.strip()\n",
    "    today = datetime.today ()\n",
    "    print (price)\n",
    "    CheckPriceChange(price,name,today)\n",
    "    with open('./details.json', 'w', encoding='utf-8') as data_file:\n",
    "            json.dump(data, data_file, ensure_ascii=False, indent=4)"
   ]
  },
  {
   "cell_type": "code",
   "execution_count": 5,
   "metadata": {},
   "outputs": [
    {
     "name": "stdout",
     "output_type": "stream",
     "text": [
      "₹69,900\n",
      "₹33,999\n"
     ]
    }
   ],
   "source": [
    "with open('./details.json', 'r') as d:\n",
    "    data = json.load(d)\n",
    "with open('./usersender.json', 'r') as d1:\n",
    "    userr = json.load(d1)\n",
    "for i in data:\n",
    "    oldprice=i['Price']\n",
    "    urls=i['url']\n",
    "    checker(urls)"
   ]
  },
  {
   "cell_type": "code",
   "execution_count": null,
   "metadata": {},
   "outputs": [],
   "source": []
  }
 ],
 "metadata": {
  "kernelspec": {
   "display_name": "Python 3",
   "language": "python",
   "name": "python3"
  },
  "language_info": {
   "codemirror_mode": {
    "name": "ipython",
    "version": 3
   },
   "file_extension": ".py",
   "mimetype": "text/x-python",
   "name": "python",
   "nbconvert_exporter": "python",
   "pygments_lexer": "ipython3",
   "version": "3.7.4"
  }
 },
 "nbformat": 4,
 "nbformat_minor": 2
}
